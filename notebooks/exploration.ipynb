{
 "cells": [
  {
   "cell_type": "code",
   "execution_count": null,
   "id": "303b797c",
   "metadata": {},
   "outputs": [],
   "source": [
    "%matplotlib inline\n",
    "import mne\n",
    "\n",
    "# Load raw EEG file\n",
    "raw = mne.io.read_raw_edf(\"../data/S001/S001R01.edf\", preload=True)\n",
    "\n",
    "# Print info (channels, sampling rate, etc.)\n",
    "print(raw)\n",
    "print(raw.info)\n",
    "print(raw.ch_names)\n",
    "\n",
    "# Plot\n",
    "raw.plot()\n"
   ]
  },
  {
   "cell_type": "code",
   "execution_count": null,
   "id": "e7d6a00b",
   "metadata": {},
   "outputs": [],
   "source": [
    "raw.filter(1., 40.)   # keep 1–40 Hz (standard EEG band)\n",
    "\n",
    "psd = raw.compute_psd(method='welch', fmin=0.5, fmax=40.0)  # Compute PSD (Power Spectral Density) up to 40 Hz\n",
    "print(psd)\n",
    "\n",
    "psd_data = psd.get_data()\n",
    "freqs = psd.freqs\n",
    "print(psd_data.shape)\n",
    "print(psd_data[0, :10])\n",
    "print(freqs[:10])\n",
    "\n",
    "psd.plot()"
   ]
  },
  {
   "cell_type": "code",
   "execution_count": null,
   "id": "f9e6eb8f",
   "metadata": {},
   "outputs": [],
   "source": [
    "import numpy as np\n",
    "\n",
    "def bandpower(psd_data, freqs, fmin, fmax):\n",
    "    \"\"\"Compute average power in a specific frequency band.\"\"\"\n",
    "    mask = (freqs >= fmin) & (freqs <= fmax)\n",
    "    return psd_data[:, mask].mean(axis=1)  # average across selected freq bins\n",
    "\n",
    "# Now apply to each band\n",
    "bands = {\n",
    "    \"delta\": (0.5, 4),\n",
    "    \"theta\": (4, 8),\n",
    "    \"alpha\": (8, 12),\n",
    "    \"beta\":  (13, 30),\n",
    "    \"gamma\": (30, 40)\n",
    "}\n",
    "\n",
    "bandpowers = {\n",
    "    band: bandpower(psd_data, freqs, fmin, fmax) for band, (fmin, fmax) in bands.items()\n",
    "}\n",
    "\n",
    "for band, values in bandpowers.items():\n",
    "    print(f\"{band}: {values[0]:.3e}\")\n",
    "\n"
   ]
  },
  {
   "cell_type": "code",
   "execution_count": null,
   "id": "acf2d467",
   "metadata": {},
   "outputs": [],
   "source": [
    "import matplotlib.pyplot as plt\n",
    "\n",
    "channel_idx = 0  # pick first channel for now\n",
    "bands_list = list(bandpowers.keys())\n",
    "values_list = [bandpowers[b][channel_idx] for b in bands_list]\n",
    "\n",
    "plt.bar(bands_list, values_list)\n",
    "plt.ylabel(\"Power (µV²/Hz)\")\n",
    "plt.title(f\"Bandpower for channel {raw.ch_names[channel_idx]}\")\n",
    "plt.show()"
   ]
  }
 ],
 "metadata": {
  "kernelspec": {
   "display_name": ".venv",
   "language": "python",
   "name": "python3"
  },
  "language_info": {
   "codemirror_mode": {
    "name": "ipython",
    "version": 3
   },
   "file_extension": ".py",
   "mimetype": "text/x-python",
   "name": "python",
   "nbconvert_exporter": "python",
   "pygments_lexer": "ipython3",
   "version": "3.12.4"
  }
 },
 "nbformat": 4,
 "nbformat_minor": 5
}
